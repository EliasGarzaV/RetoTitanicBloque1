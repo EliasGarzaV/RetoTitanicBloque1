{
 "cells": [
  {
   "cell_type": "markdown",
   "metadata": {},
   "source": [
    "# Reto: Entregable #1\n",
    "### Limpieza y procesamiento de datos\n",
    "\n",
    "| Integrantes        | Matricula            |\n",
    "|---------------|---------------|\n",
    "| Ana Lucía Cárdenas Pérez      | A01284090          |\n",
    "| Elías Garza Valdés      | A01284041          |\n",
    "| Diego Elián Rodríguez Cantú      | A00829925          |\n",
    "| José Edmundo Romo Castillo           | A01197772           |\n"
   ]
  },
  {
   "cell_type": "code",
   "execution_count": null,
   "metadata": {},
   "outputs": [],
   "source": [
    "import pandas as pd \n",
    "import numpy as np \n",
    "import seaborn as sns"
   ]
  }
 ],
 "metadata": {
  "kernelspec": {
   "display_name": "base",
   "language": "python",
   "name": "python3"
  },
  "language_info": {
   "name": "python",
   "version": "3.9.16"
  },
  "orig_nbformat": 4
 },
 "nbformat": 4,
 "nbformat_minor": 2
}
